{
 "cells": [
  {
   "cell_type": "code",
   "execution_count": null,
   "metadata": {},
   "outputs": [],
   "source": [
    "import pandas as pd\n",
    "import numpy as np\n",
    "import datetime as datetime"
   ]
  },
  {
   "cell_type": "code",
   "execution_count": null,
   "metadata": {},
   "outputs": [],
   "source": [
    "main_books_df = pd.read_csv(\"Resources/Nilim-Kaggle/books.csv\", error_bad_lines=False)\n",
    "other_books_df = pd.read_csv(\"Resources/Mobius-Kaggle/books.csv\", error_bad_lines=False)\n",
    "user_df = pd.read_csv(\"Resources/Mobius-Kaggle/Users.csv\", error_bad_lines=False)\n",
    "ratings_df = pd.read_csv(\"Resources/Mobius-Kaggle/Ratings.csv\", error_bad_lines=False)\n",
    "\n",
    "main_books_df.dropna(inplace = True) \n",
    "other_books_df.dropna(inplace = True) \n",
    "user_df.dropna(inplace = True) \n",
    "ratings_df.dropna(inplace = True) \n"
   ]
  },
  {
   "cell_type": "code",
   "execution_count": null,
   "metadata": {},
   "outputs": [],
   "source": [
    "# Merge two dataframes using an inner join (default).\n",
    "books_df = pd.merge(main_books_df, other_books_df, how='outer', on='isbn')\n",
    "books_df"
   ]
  },
  {
   "cell_type": "markdown",
   "metadata": {},
   "source": [
    "### Looks like there are no duplicate isbn's between these two datasets. The main_books_df has sufficent information so we should just move forward with that dataset."
   ]
  },
  {
   "cell_type": "code",
   "execution_count": null,
   "metadata": {},
   "outputs": [],
   "source": []
  },
  {
   "cell_type": "code",
   "execution_count": null,
   "metadata": {},
   "outputs": [],
   "source": []
  }
 ],
 "metadata": {
  "kernelspec": {
   "display_name": "PythonData",
   "language": "python",
   "name": "pythondata"
  },
  "language_info": {
   "codemirror_mode": {
    "name": "ipython",
    "version": 3
   },
   "file_extension": ".py",
   "mimetype": "text/x-python",
   "name": "python",
   "nbconvert_exporter": "python",
   "pygments_lexer": "ipython3",
   "version": "3.7.10"
  }
 },
 "nbformat": 4,
 "nbformat_minor": 5
}
