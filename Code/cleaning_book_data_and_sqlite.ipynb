{
 "cells": [
  {
   "cell_type": "code",
   "execution_count": 1,
   "id": "67e2c2e7",
   "metadata": {},
   "outputs": [],
   "source": [
    "import pandas as pd\n",
    "import numpy as np\n",
    "import datetime as datetime\n",
    "import sqlalchemy\n",
    "from sqlalchemy.ext.automap import automap_base \n",
    "from sqlalchemy.orm import Session\n",
    "from sqlalchemy import create_engine, func\n",
    "from sqlalchemy import extract\n",
    "import sqlite3"
   ]
  },
  {
   "cell_type": "code",
   "execution_count": 2,
   "id": "1c60bdcd",
   "metadata": {},
   "outputs": [
    {
     "data": {
      "text/html": [
       "<div>\n",
       "<style scoped>\n",
       "    .dataframe tbody tr th:only-of-type {\n",
       "        vertical-align: middle;\n",
       "    }\n",
       "\n",
       "    .dataframe tbody tr th {\n",
       "        vertical-align: top;\n",
       "    }\n",
       "\n",
       "    .dataframe thead th {\n",
       "        text-align: right;\n",
       "    }\n",
       "</style>\n",
       "<table border=\"1\" class=\"dataframe\">\n",
       "  <thead>\n",
       "    <tr style=\"text-align: right;\">\n",
       "      <th></th>\n",
       "      <th>bookID</th>\n",
       "      <th>title</th>\n",
       "      <th>authors</th>\n",
       "      <th>average_rating</th>\n",
       "      <th>isbn</th>\n",
       "      <th>isbn13</th>\n",
       "      <th>language_code</th>\n",
       "      <th>num_pages</th>\n",
       "      <th>ratings_count</th>\n",
       "      <th>text_reviews_count</th>\n",
       "      <th>publication_date</th>\n",
       "      <th>publisher</th>\n",
       "      <th>Unnamed: 12</th>\n",
       "    </tr>\n",
       "  </thead>\n",
       "  <tbody>\n",
       "    <tr>\n",
       "      <th>3346</th>\n",
       "      <td>12224</td>\n",
       "      <td>Streetcar Suburbs: The Process of Growth in Bo...</td>\n",
       "      <td>Sam Bass Warner</td>\n",
       "      <td>Jr./Sam B. Warner</td>\n",
       "      <td>3.58</td>\n",
       "      <td>674842111</td>\n",
       "      <td>9.78E+12</td>\n",
       "      <td>en-US</td>\n",
       "      <td>236</td>\n",
       "      <td>61</td>\n",
       "      <td>6</td>\n",
       "      <td>4/20/2004</td>\n",
       "      <td>Harvard University Press</td>\n",
       "    </tr>\n",
       "    <tr>\n",
       "      <th>4700</th>\n",
       "      <td>16914</td>\n",
       "      <td>The Tolkien Fan's Medieval Reader</td>\n",
       "      <td>David E. Smith (Turgon of TheOneRing.net</td>\n",
       "      <td>one of the founding members of this Tolkien w...</td>\n",
       "      <td>3.58</td>\n",
       "      <td>1593600119</td>\n",
       "      <td>9.78E+12</td>\n",
       "      <td>eng</td>\n",
       "      <td>400</td>\n",
       "      <td>26</td>\n",
       "      <td>4</td>\n",
       "      <td>4/6/2004</td>\n",
       "      <td>Cold Spring Press</td>\n",
       "    </tr>\n",
       "    <tr>\n",
       "      <th>5875</th>\n",
       "      <td>22128</td>\n",
       "      <td>Patriots (The Coming Collapse)</td>\n",
       "      <td>James Wesley</td>\n",
       "      <td>Rawles</td>\n",
       "      <td>3.63</td>\n",
       "      <td>156384155X</td>\n",
       "      <td>9.78E+12</td>\n",
       "      <td>eng</td>\n",
       "      <td>342</td>\n",
       "      <td>38</td>\n",
       "      <td>4</td>\n",
       "      <td>1/15/1999</td>\n",
       "      <td>Huntington House Publishers</td>\n",
       "    </tr>\n",
       "    <tr>\n",
       "      <th>8952</th>\n",
       "      <td>34889</td>\n",
       "      <td>Brown's Star Atlas: Showing All The Bright Sta...</td>\n",
       "      <td>Brown</td>\n",
       "      <td>Son &amp; Ferguson</td>\n",
       "      <td>0</td>\n",
       "      <td>851742718</td>\n",
       "      <td>9.78E+12</td>\n",
       "      <td>eng</td>\n",
       "      <td>49</td>\n",
       "      <td>0</td>\n",
       "      <td>0</td>\n",
       "      <td>5/1/1977</td>\n",
       "      <td>Brown Son &amp; Ferguson Ltd.</td>\n",
       "    </tr>\n",
       "  </tbody>\n",
       "</table>\n",
       "</div>"
      ],
      "text/plain": [
       "      bookID                                              title  \\\n",
       "3346   12224  Streetcar Suburbs: The Process of Growth in Bo...   \n",
       "4700   16914                  The Tolkien Fan's Medieval Reader   \n",
       "5875   22128                     Patriots (The Coming Collapse)   \n",
       "8952   34889  Brown's Star Atlas: Showing All The Bright Sta...   \n",
       "\n",
       "                                       authors  \\\n",
       "3346                           Sam Bass Warner   \n",
       "4700  David E. Smith (Turgon of TheOneRing.net   \n",
       "5875                              James Wesley   \n",
       "8952                                     Brown   \n",
       "\n",
       "                                         average_rating  isbn      isbn13  \\\n",
       "3346                                  Jr./Sam B. Warner  3.58   674842111   \n",
       "4700   one of the founding members of this Tolkien w...  3.58  1593600119   \n",
       "5875                                             Rawles  3.63  156384155X   \n",
       "8952                                     Son & Ferguson     0   851742718   \n",
       "\n",
       "     language_code   num_pages  ratings_count  text_reviews_count  \\\n",
       "3346      9.78E+12       en-US            236                  61   \n",
       "4700      9.78E+12         eng            400                  26   \n",
       "5875      9.78E+12         eng            342                  38   \n",
       "8952      9.78E+12         eng             49                   0   \n",
       "\n",
       "     publication_date  publisher                  Unnamed: 12  \n",
       "3346                6  4/20/2004     Harvard University Press  \n",
       "4700                4   4/6/2004            Cold Spring Press  \n",
       "5875                4  1/15/1999  Huntington House Publishers  \n",
       "8952                0   5/1/1977    Brown Son & Ferguson Ltd.  "
      ]
     },
     "execution_count": 2,
     "metadata": {},
     "output_type": "execute_result"
    }
   ],
   "source": [
    "books_df = pd.read_csv(\"Resources/Nilim-Kaggle/books.csv\", error_bad_lines=False)\n",
    "books_df.dropna(inplace = True) \n",
    "books_df.head()"
   ]
  },
  {
   "cell_type": "code",
   "execution_count": 3,
   "id": "ee8de7a8",
   "metadata": {},
   "outputs": [
    {
     "data": {
      "text/plain": [
       "4/6/2004     1\n",
       "4/20/2004    1\n",
       "5/1/1977     1\n",
       "1/15/1999    1\n",
       "Name: publisher, dtype: int64"
      ]
     },
     "execution_count": 3,
     "metadata": {},
     "output_type": "execute_result"
    }
   ],
   "source": [
    "books_df[\"publisher\"].value_counts()"
   ]
  },
  {
   "cell_type": "code",
   "execution_count": 4,
   "id": "479b447b",
   "metadata": {},
   "outputs": [
    {
     "data": {
      "text/plain": [
       "9.78E+12    4\n",
       "Name: language_code, dtype: int64"
      ]
     },
     "execution_count": 4,
     "metadata": {},
     "output_type": "execute_result"
    }
   ],
   "source": [
    "books_df[\"language_code\"].value_counts()"
   ]
  },
  {
   "cell_type": "code",
   "execution_count": 5,
   "id": "ba94be2f",
   "metadata": {},
   "outputs": [
    {
     "data": {
      "text/html": [
       "<div>\n",
       "<style scoped>\n",
       "    .dataframe tbody tr th:only-of-type {\n",
       "        vertical-align: middle;\n",
       "    }\n",
       "\n",
       "    .dataframe tbody tr th {\n",
       "        vertical-align: top;\n",
       "    }\n",
       "\n",
       "    .dataframe thead th {\n",
       "        text-align: right;\n",
       "    }\n",
       "</style>\n",
       "<table border=\"1\" class=\"dataframe\">\n",
       "  <thead>\n",
       "    <tr style=\"text-align: right;\">\n",
       "      <th></th>\n",
       "      <th>bookID</th>\n",
       "      <th>title</th>\n",
       "      <th>authors</th>\n",
       "      <th>average_rating</th>\n",
       "      <th>isbn</th>\n",
       "      <th>isbn13</th>\n",
       "      <th>language_code</th>\n",
       "      <th>num_pages</th>\n",
       "      <th>ratings_count</th>\n",
       "      <th>text_reviews_count</th>\n",
       "      <th>publication_date</th>\n",
       "      <th>publisher</th>\n",
       "      <th>Unnamed: 12</th>\n",
       "    </tr>\n",
       "  </thead>\n",
       "  <tbody>\n",
       "  </tbody>\n",
       "</table>\n",
       "</div>"
      ],
      "text/plain": [
       "Empty DataFrame\n",
       "Columns: [bookID, title, authors, average_rating, isbn, isbn13, language_code,   num_pages, ratings_count, text_reviews_count, publication_date, publisher, Unnamed: 12]\n",
       "Index: []"
      ]
     },
     "execution_count": 5,
     "metadata": {},
     "output_type": "execute_result"
    }
   ],
   "source": [
    "#en-CA = English (Canada), en-GB =English (United Kingdom), en-US= English (United States) update all to eng. \n",
    "eng_books_df= books_df.loc[(books_df[\"language_code\"] == \"en-CA\") | (books_df[\"language_code\"] == \"en-GB\")| (books_df[\"language_code\"] == \"en-US\")].replace(['en-CA','en-GB','en-US'],'eng')\n",
    "eng_books_df.head()"
   ]
  },
  {
   "cell_type": "code",
   "execution_count": 6,
   "id": "c350cc82",
   "metadata": {},
   "outputs": [
    {
     "data": {
      "text/plain": [
       "9.78E+12    4\n",
       "Name: language_code, dtype: int64"
      ]
     },
     "execution_count": 6,
     "metadata": {},
     "output_type": "execute_result"
    }
   ],
   "source": [
    "books_df[\"language_code\"].value_counts()"
   ]
  },
  {
   "cell_type": "code",
   "execution_count": 7,
   "id": "34e2f88f",
   "metadata": {},
   "outputs": [
    {
     "data": {
      "text/plain": [
       "bookID                 int64\n",
       "title                 object\n",
       "authors               object\n",
       "average_rating        object\n",
       "isbn                  object\n",
       "isbn13                object\n",
       "language_code         object\n",
       "  num_pages           object\n",
       "ratings_count          int64\n",
       "text_reviews_count     int64\n",
       "publication_date      object\n",
       "publisher             object\n",
       "Unnamed: 12           object\n",
       "dtype: object"
      ]
     },
     "execution_count": 7,
     "metadata": {},
     "output_type": "execute_result"
    }
   ],
   "source": [
    "books_df.dtypes"
   ]
  },
  {
   "cell_type": "code",
   "execution_count": 8,
   "id": "c547e5c0",
   "metadata": {},
   "outputs": [],
   "source": [
    "books_df['publication_date'] = pd.to_datetime(books_df['publication_date'], dayfirst=True, errors='coerce')"
   ]
  },
  {
   "cell_type": "code",
   "execution_count": 9,
   "id": "183caab3",
   "metadata": {},
   "outputs": [
    {
     "data": {
      "text/plain": [
       "bookID                         int64\n",
       "title                         object\n",
       "authors                       object\n",
       "average_rating                object\n",
       "isbn                          object\n",
       "isbn13                        object\n",
       "language_code                 object\n",
       "  num_pages                   object\n",
       "ratings_count                  int64\n",
       "text_reviews_count             int64\n",
       "publication_date      datetime64[ns]\n",
       "publisher                     object\n",
       "Unnamed: 12                   object\n",
       "dtype: object"
      ]
     },
     "execution_count": 9,
     "metadata": {},
     "output_type": "execute_result"
    }
   ],
   "source": [
    "books_df.dtypes"
   ]
  },
  {
   "cell_type": "markdown",
   "id": "a922c648",
   "metadata": {},
   "source": [
    "##### Database Setup "
   ]
  },
  {
   "cell_type": "code",
   "execution_count": 10,
   "id": "5c406010",
   "metadata": {},
   "outputs": [],
   "source": [
    "conn = sqlite3.connect('books_test_db')\n",
    "c = conn.cursor()"
   ]
  },
  {
   "cell_type": "code",
   "execution_count": 11,
   "id": "b110c565",
   "metadata": {},
   "outputs": [],
   "source": [
    "c.execute('''CREATE TABLE books(bookID, title, authors, average_rating, isbn, isbn13, language_code, num_pages, ratings_count, text_reviews_count, publication_date, publisher)''')\n",
    "conn.commit()"
   ]
  },
  {
   "cell_type": "code",
   "execution_count": 12,
   "id": "76fee38a",
   "metadata": {},
   "outputs": [
    {
     "name": "stderr",
     "output_type": "stream",
     "text": [
      "C:\\Users\\nmlam\\anaconda3\\envs\\PythonData\\lib\\site-packages\\pandas\\core\\generic.py:2789: UserWarning: The spaces in these column names will not be changed. In pandas versions < 0.14, spaces were converted to underscores.\n",
      "  method=method,\n"
     ]
    }
   ],
   "source": [
    "books_df.to_sql('books', conn, if_exists='replace', index = False)"
   ]
  },
  {
   "cell_type": "code",
   "execution_count": 13,
   "id": "d3fb68f0",
   "metadata": {},
   "outputs": [],
   "source": [
    "engine = create_engine(\"sqlite:///books_test_db.sqlite\")"
   ]
  },
  {
   "cell_type": "code",
   "execution_count": 14,
   "id": "42654296",
   "metadata": {},
   "outputs": [],
   "source": [
    "# reflect an existing database into a new model\n",
    "Base = automap_base()\n",
    "# reflect the tables\n",
    "Base.prepare(engine, reflect=True)"
   ]
  }
 ],
 "metadata": {
  "kernelspec": {
   "display_name": "PythonData",
   "language": "python",
   "name": "pythondata"
  },
  "language_info": {
   "codemirror_mode": {
    "name": "ipython",
    "version": 3
   },
   "file_extension": ".py",
   "mimetype": "text/x-python",
   "name": "python",
   "nbconvert_exporter": "python",
   "pygments_lexer": "ipython3",
   "version": "3.7.10"
  }
 },
 "nbformat": 4,
 "nbformat_minor": 5
}
